{
  "cells": [
    {
      "cell_type": "markdown",
      "metadata": {
        "id": "improving-pepper"
      },
      "source": [
        "# Assignment 1 - Question 3\n",
        "The objective of this assignment is to get you familiarize with  the  problem  of  `Linear Regression`.\n",
        "\n",
        "## Instructions\n",
        "- Write your code and analysis in the indicated cells.\n",
        "- Ensure that this notebook runs without errors when the cells are run in sequence.\n",
        "- Do not attempt to change the contents of other cells.\n",
        "- No inbuilt functions to be used until specified.\n",
        "\n",
        "## Submission\n",
        "- Ensure that this notebook runs without errors when the cells are run in sequence.\n",
        "- Rename the notebook to `<roll_number>_A1_Q3.ipynb`."
      ],
      "id": "improving-pepper"
    },
    {
      "cell_type": "markdown",
      "metadata": {
        "id": "final-transaction"
      },
      "source": [
        "## 1.3.0 Background about the dataset\n",
        "\n",
        "TLDR: You have 25 independent variables (`x1, x2, x3, ... , x25`) type: `float` for each data point. You can use a linear combination of these 25 independent variables to predict the y (dependent variable) of each data point."
      ],
      "id": "final-transaction"
    },
    {
      "cell_type": "code",
      "execution_count": null,
      "metadata": {
        "id": "lyric-olympus"
      },
      "outputs": [],
      "source": [
        "import csv\n",
        "import random\n",
        "import numpy as np\n",
        "import matplotlib.pyplot as plt"
      ],
      "id": "lyric-olympus"
    },
    {
      "cell_type": "code",
      "execution_count": null,
      "metadata": {
        "id": "hundred-receipt"
      },
      "outputs": [],
      "source": [
        "train_data = list()\n",
        "with open('train_q3.csv', 'r') as infile:\n",
        "    input_rows = csv.DictReader(infile)\n",
        "    for row in input_rows:\n",
        "        data_point = ([float(row['x1']), float(row['x2']), float(row['x3']),\n",
        "                       float(row['x4']), float(row['x5']), float(row['x6']),\n",
        "                        float(row['x7']), float(row['x8']), float(row['x9']),\n",
        "                        float(row['x10']), float(row['x11']), float(row['x12']),\n",
        "                        float(row['x13']), float(row['x14']), float(row['x15']),\n",
        "                        float(row['x16']), float(row['x17']), float(row['x18']),\n",
        "                        float(row['x19']), float(row['x20']), float(row['x21']),\n",
        "                        float(row['x22']), float(row['x23']), float(row['x24']),\n",
        "                        float(row['x25'])], float(row['y']))\n",
        "        train_data.append(data_point)\n",
        "        \n",
        "# each point in x_train has 25 values - 1 for each feature\n",
        "x_train = [x[0] for x in train_data]\n",
        "# each point in y_train has 1 value - the 'y' of the molecule\n",
        "y_train = [x[1] for x in train_data]\n",
        "\n",
        "\n",
        "test_data = list()\n",
        "with open('test_q3.csv', 'r') as infile:\n",
        "    input_rows = csv.DictReader(infile)\n",
        "    for row in input_rows:\n",
        "        data_point = ([float(row['x1']), float(row['x2']), float(row['x3']),\n",
        "                        float(row['x4']), float(row['x5']), float(row['x6']),\n",
        "                        float(row['x7']), float(row['x8']), float(row['x9']),\n",
        "                        float(row['x10']), float(row['x11']), float(row['x12']),\n",
        "                        float(row['x13']), float(row['x14']), float(row['x15']),\n",
        "                        float(row['x16']), float(row['x17']), float(row['x18']),\n",
        "                        float(row['x19']), float(row['x20']), float(row['x21']),\n",
        "                        float(row['x22']), float(row['x23']), float(row['x24']),\n",
        "                        float(row['x25'])], float(row['y']))\n",
        "        test_data.append(data_point)\n",
        "\n",
        "x_test = [x[0] for x in test_data]\n",
        "y_test = [x[1] for x in test_data]"
      ],
      "id": "hundred-receipt"
    },
    {
      "cell_type": "markdown",
      "metadata": {
        "id": "square-direction"
      },
      "source": [
        "### 1.3.1 Implement a Linear Regression model that minimizes the MSE **without using any libraries**. You may use NumPy to vectorize your code, but *do not use numpy.polyfit* or anything similar.\n",
        "\n",
        "1.3.1.1 Explain how you plan to implement Linear Regression in 5-10 lines.\n",
        "\n",
        "1.3.1.2 Implement Linear Regression using `x_train` and `y_train` as the train dataset.\n",
        "\n",
        "1.3.2.3 Choose the best learning rate and print the learning rate for which you achieved the best MSE.\n",
        "\n",
        "1.2.1.4 Make a [Parity Plot](https://en.wikipedia.org/wiki/Parity_plot) of your model's bandgap predictions on the test set with the actual values."
      ],
      "id": "square-direction"
    },
    {
      "cell_type": "markdown",
      "metadata": {
        "id": "frozen-forth"
      },
      "source": [
        "<!-- your answer to 1.3.1.1 -->\n",
        "`ANSWER 1.3.1.1`\n",
        "\n",
        "I will try to minimize MSE(cost function) by differing Parameters using Gradient Descent function.\n",
        "\n",
        "Hypothesis(Q) = Q0 + Q1*X1 + Q2*X2 + Q3*X3 + .......\n",
        "\n",
        "Cost function = Mean Square Error\n",
        "\n",
        "Gredient descent\n",
        "\n",
        "Qj = Qj - alpha*(Costfunction)*Xj"
      ],
      "id": "frozen-forth"
    },
    {
      "cell_type": "code",
      "execution_count": null,
      "metadata": {
        "colab": {
          "base_uri": "https://localhost:8080/"
        },
        "id": "angry-depression",
        "outputId": "be126d3c-f717-477c-ff0a-49db7e303254"
      },
      "outputs": [
        {
          "output_type": "stream",
          "name": "stdout",
          "text": [
            "<class 'numpy.ndarray'>\n",
            "(240, 26)\n",
            "(240,)\n",
            "(26,)\n"
          ]
        }
      ],
      "source": [
        "# 1.3.1.2\n",
        "# implement Linear Regression\n",
        "x_train_arr=np.array(x_train)\n",
        "y=np.array(y_train)\n",
        "print(type(y))\n",
        "# print(y)\n",
        "x_test_arr=np.array(x_test)\n",
        "y_test_arr=np.array(y_test)\n",
        "theta = np.zeros(26)\n",
        "iterations_r = 100000000\n",
        "alphaa = 0.1\n",
        "m = len(x_train)\n",
        "n = len(x_test)\n",
        "X = np.vstack((np.ones((m,)), x_train_arr.T)).T\n",
        "X_test = np.vstack((np.ones((n,)), x_test_arr.T)).T\n",
        "print(X.shape)\n",
        "print(y.shape)\n",
        "print(theta.shape)\n",
        "# print(X[0])\n"
      ],
      "id": "angry-depression"
    },
    {
      "cell_type": "code",
      "execution_count": null,
      "metadata": {
        "id": "e4NWnZloid1H"
      },
      "outputs": [],
      "source": [
        "def compute_cost(X,y,theta):\n",
        "  J=0\n",
        "  J=(1/(2*m))*np.sum((np.dot(X,theta)-y)**2)\n",
        "  return J"
      ],
      "id": "e4NWnZloid1H"
    },
    {
      "cell_type": "code",
      "execution_count": null,
      "metadata": {
        "id": "Z66wM_oxk4ly"
      },
      "outputs": [],
      "source": [
        "import math\n",
        "def gradientDescent(X, y, theta, alpha, num_iters):\n",
        "  theta = theta.copy()\n",
        "  J_history = []\n",
        "  for i in range(num_iters):\n",
        "        theta = theta - (alpha / m) * (np.dot(X, theta) - y).dot(X)\n",
        "        if compute_cost(X, y, theta) < math.pow(10,-6):\n",
        "            J_history.append(compute_cost(X, y, theta))\n",
        "            break;\n",
        "        J_history.append(compute_cost(X, y, theta))\n",
        "    \n",
        "  return theta, J_history"
      ],
      "id": "Z66wM_oxk4ly"
    },
    {
      "cell_type": "code",
      "execution_count": null,
      "metadata": {
        "id": "f741IB4lpSOD",
        "colab": {
          "base_uri": "https://localhost:8080/"
        },
        "outputId": "260c3af0-1ba6-4951-f168-3a5cebec6266"
      },
      "outputs": [
        {
          "output_type": "stream",
          "name": "stdout",
          "text": [
            "9.99999359788668e-07\n",
            "99.73812308917961\n"
          ]
        }
      ],
      "source": [
        "thetan, J_history = gradientDescent(X ,y, theta, alphaa, iterations_r)\n",
        "print(J_history[-1])\n",
        "# from sklearn import metrics\n",
        "# # print(metrics.accuracy_score(np.dot(X_test,theta),y_test_arr))\n",
        "# metrics.r2_score(np.dot(X_test,theta), y_test_arr)\n",
        "y_pred = np.dot(X_test,thetan)\n",
        "error = np.square(np.subtract(y_test,y_pred)).mean()\n",
        "c=(1-error)*100\n",
        "print(c)"
      ],
      "id": "f741IB4lpSOD"
    },
    {
      "cell_type": "code",
      "execution_count": null,
      "metadata": {
        "id": "b19c0ac4",
        "colab": {
          "base_uri": "https://localhost:8080/"
        },
        "outputId": "f00f5afd-c0bb-4f1f-8bc2-25a602f1f318"
      },
      "outputs": [
        {
          "output_type": "stream",
          "name": "stdout",
          "text": [
            "0.1\n",
            "5.9059375275961654e-06\n"
          ]
        }
      ],
      "source": [
        "# 1.3.2.3\n",
        "# try with different learning rates and choose the best one\n",
        "learn = []\n",
        "xx = []\n",
        "mini = pow(10,-5)\n",
        "maxlearningrate = -1;\n",
        "iterations = 300000\n",
        "lamba = [0.01,0.1,1,10,100]\n",
        "for i in lamba:\n",
        "  theta, J_history = gradientDescent(X ,y, theta, i, iterations)\n",
        "  # metrics.r2_score(np.dot(X_test,theta), y_test_arr)\n",
        "  # print(i)\n",
        "  \n",
        "  y_predd = np.dot(X_test,theta)\n",
        "  # errorrr = (1/X_test.shape[0])*np.sum(np.abs(y_predd - y_test))\n",
        "  # ccc=(1-errorrr)*100\n",
        "  if mini > J_history[-1]:\n",
        "    mini = J_history[-1]\n",
        "    maxlearningrate = i\n",
        "    break\n",
        "    \n",
        "    # errorr = (1/X_test.shape[0])*np.sum(np.abs(y_predd - y_test))\n",
        "    # cc=(1-errorr)*100\n",
        "#   learn.append(i/100)\n",
        "#   xx.append(J_history[-1])\n",
        "\n",
        "\n",
        "# xpoints = np.array(learn)\n",
        "# ypoints = np.array(xx)\n",
        "print(maxlearningrate)\n",
        "print(mini)\n",
        "\n",
        "# plt.plot(xpoints, ypoints)\n",
        "\n",
        "\n"
      ],
      "id": "b19c0ac4"
    },
    {
      "cell_type": "code",
      "execution_count": null,
      "metadata": {
        "id": "foster-center",
        "colab": {
          "base_uri": "https://localhost:8080/"
        },
        "outputId": "013d795e-79ef-44ae-8908-2a3e22152e72"
      },
      "outputs": [
        {
          "output_type": "display_data",
          "data": {
            "text/plain": [
              "<Figure size 504x504 with 1 Axes>"
            ],
            "image/png": "[encoded data removed]"
          },
          "metadata": {
            "needs_background": "light"
          }
        }
      ],
      "source": [
        "# 1.3.1.4\n",
        "# Get the predictions of x_test into `y_pred`\n",
        "y_pred=np.dot(X_test,thetan)\n",
        "fig, ax = plt.subplots(figsize=(7,7))\n",
        "\n",
        "ax.scatter(y_test, y_pred)\n",
        "\n",
        "lims = [\n",
        "    np.min([ax.get_xlim(), ax.get_ylim()]),\n",
        "    np.max([ax.get_xlim(), ax.get_ylim()]),\n",
        "]\n",
        "ax.plot(lims, lims, 'k-', alpha=0.75, zorder=0)\n",
        "ax.set_aspect('equal')\n",
        "ax.set_xlim(lims)\n",
        "ax.set_ylim(lims)\n",
        "\n",
        "ax.set_title('Parity Plot of Custom Linear Regression')\n",
        "ax.set_xlabel('Ground truth y-values')\n",
        "ax.set_ylabel('Predicted y-values')\n",
        "plt.show()"
      ],
      "id": "foster-center"
    },
    {
      "cell_type": "markdown",
      "metadata": {
        "id": "dominant-chaos"
      },
      "source": [
        "### 1.3.2 Implement Ridge Regression\n",
        "\n",
        "1.3.2.1 Explain Ridge regression briefly in 1-2 lines.\n",
        "\n",
        "1.3.2.2 Implement Ridge regression and make a table of different RMSE scores you achieved with different values of alpha. What does the parameter `alpha` do?\n",
        "\n",
        "1.3.2.3 How does it affect the results here? Explain in 5-10 lines in total. (You can use scikit-learn from this cell onwards)\n",
        "\n",
        "1.3.2.4 Make a Parity Plot of Ridge Regression model's y-predictions on the test set with the actual values."
      ],
      "id": "dominant-chaos"
    },
    {
      "cell_type": "markdown",
      "metadata": {
        "id": "happy-cyprus"
      },
      "source": [
        "<!-- Your answer to 1.3.2.1 -->\n",
        "`1.3.2.1 Answer`\n",
        "\n",
        "Ridge regression is a type of regularization technique to reduce overfitting the data. We use the additional term Qj^2 to reduce the effect of the features which cause overfitting.  "
      ],
      "id": "happy-cyprus"
    },
    {
      "cell_type": "code",
      "execution_count": null,
      "metadata": {
        "id": "02a50a51",
        "colab": {
          "base_uri": "https://localhost:8080/"
        },
        "outputId": "24633676-ff7b-4754-d7ab-6df51cf482a5"
      },
      "outputs": [
        {
          "output_type": "stream",
          "name": "stdout",
          "text": [
            "0.9891783765390588\n",
            "0.06007844404725439\n",
            "+----+---------+-----------+\n",
            "|    |   alpha |      rmse |\n",
            "|----+---------+-----------|\n",
            "|  0 |  1e-06  | 0.146143  |\n",
            "|  1 |  1e-05  | 0.0740614 |\n",
            "|  2 |  0.0001 | 0.307387  |\n",
            "|  3 |  0.001  | 0.109349  |\n",
            "|  4 |  0.01   | 0.0708713 |\n",
            "|  5 |  0.1    | 0.802039  |\n",
            "+----+---------+-----------+\n"
          ]
        }
      ],
      "source": [
        "# 1.3.2.2\n",
        "# you should not have imported sklearn before this point\n",
        "from sklearn.linear_model import Ridge\n",
        "from sklearn.metrics import mean_squared_error\n",
        "from sklearn.metrics import r2_score\n",
        "import pandas as pd\n",
        "from tabulate import tabulate\n",
        "rmse_list =[]\n",
        "alpha_list =[]\n",
        "regg = Ridge(alpha=0.41).fit(x_train, y_train)\n",
        "y_preddd = regg.predict(x_test)\n",
        "rmse = np.sqrt(mean_squared_error(y_preddd,y_test))\n",
        "print(r2_score(y_test,y_preddd))\n",
        "print(rmse)\n",
        "lamba = [0.0001,0.001,0.01,0.1,1,10]\n",
        "for i in lamba:\n",
        "    reg = Ridge(alpha=i).fit(x_train,y_train)\n",
        "    y_pre = reg.predict(x_test)\n",
        "    rmse = np.sqrt(mean_squared_error(y_pre,y_test))\n",
        "    rmse_list.append(rmse)\n",
        "    alpha_list.append(i/100)\n",
        "    \n",
        "data = {\n",
        "  \"alpha\": alpha_list,\n",
        "  \"rmse\": rmse_list\n",
        "}\n",
        "\n",
        "#load data into a DataFrame object:\n",
        "df = pd.DataFrame(data)\n",
        "# df.to_excel('ridge.xlsx')\n",
        "\n",
        "print(tabulate(df, headers='keys', tablefmt='psql'))\n",
        "\n",
        "# implement Ridge regression and make a table where you explore the effect of different values of `alpha`"
      ],
      "id": "02a50a51"
    },
    {
      "cell_type": "markdown",
      "metadata": {
        "id": "e54d36d9"
      },
      "source": [
        "<!-- Your answer to 1.3.2.3 -->\n",
        "`1.3.2.3 Answer`\n",
        "\n",
        "||y - Xw||^2_2 + alpha * ||w||^2_2\n",
        "\n",
        "Alpha (α) is the penalty term that denotes the amount of shrinkage (or constraint) that will be implemented in the equation. With alpha set to zero, you will find that this is the equivalent of the linear regression model, and a larger value penalizes the optimization function. Therefore, ridge regression shrinks the coefficients and helps to reduce the model complexity and multi-collinearity.\n",
        "\n",
        "Alpha (α) can be any real-valued number between zero and infinity; the larger the value, the more aggressive the penalization is.\n",
        "\n",
        "If Alpha is too high then it will underfit the model."
      ],
      "id": "e54d36d9"
    },
    {
      "cell_type": "code",
      "execution_count": null,
      "metadata": {
        "id": "e9d2c1e8",
        "colab": {
          "base_uri": "https://localhost:8080/"
        },
        "outputId": "8e568784-f67c-4331-8d88-0775e9d39ca3"
      },
      "outputs": [
        {
          "output_type": "display_data",
          "data": {
            "text/plain": [
              "<Figure size 504x504 with 1 Axes>"
            ],
            "image/png": "[encoded data removed]"
          },
          "metadata": {
            "needs_background": "light"
          }
        }
      ],
      "source": [
        "# 1.3.2.4\n",
        "y_preddd = regg.predict(x_test)\n",
        "fig, ax = plt.subplots(figsize=(7,7))\n",
        "\n",
        "ax.scatter(y_test, y_preddd)\n",
        "\n",
        "lims = [\n",
        "    np.min([ax.get_xlim(), ax.get_ylim()]),\n",
        "    np.max([ax.get_xlim(), ax.get_ylim()]),\n",
        "]\n",
        "ax.plot(lims, lims, 'k-', alpha=0.75, zorder=0)\n",
        "ax.set_aspect('equal')\n",
        "ax.set_xlim(lims)\n",
        "ax.set_ylim(lims)\n",
        "\n",
        "ax.set_title('Parity Plot of Custom Linear Regression')\n",
        "ax.set_xlabel('Ground truth y-values')\n",
        "ax.set_ylabel('Predicted y-values')\n",
        "plt.show()"
      ],
      "id": "e9d2c1e8"
    },
    {
      "cell_type": "markdown",
      "metadata": {
        "id": "popular-wonder"
      },
      "source": [
        "### 1.3.3 Implement Lasso Regression\n",
        "1.3.3.1 Explain Lasso regression briefly in 1-2 lines.\n",
        "\n",
        "1.3.3.2 Implement Lasso regression and make a table of different RMSE scores you achieved with different values of alpha.\n",
        "\n",
        "1.3.3.3 What does the parameter `alpha` do? How does it affect the results here? Explain in 5-10 lines in total.\n",
        "\n",
        "1.3.3.4 Make a Parity Plot of Lasso Regression model's y-predictions on the test set with the actual values."
      ],
      "id": "popular-wonder"
    },
    {
      "cell_type": "markdown",
      "metadata": {
        "id": "mV9BlPIjm-K1"
      },
      "source": [
        "<!-- Your answer to 1.3.3.1 -->\n",
        "`1.3.3.1 Answer`\n",
        "\n",
        "Lasso regression is a type of regularization technique to reduce overfitting the data. We use the additional term |Qj| to reduce the effect of the features which cause overfitting.  "
      ],
      "id": "mV9BlPIjm-K1"
    },
    {
      "cell_type": "code",
      "execution_count": null,
      "metadata": {
        "id": "09148bbc",
        "colab": {
          "base_uri": "https://localhost:8080/"
        },
        "outputId": "c6c19853-61fb-456e-845b-f25fcfceed27"
      },
      "outputs": [
        {
          "output_type": "stream",
          "name": "stdout",
          "text": [
            "+----+---------+----------+\n",
            "|    |   alpha |     rmse |\n",
            "|----+---------+----------|\n",
            "|  0 |  0.0001 | 0.61249  |\n",
            "|  1 |  0.001  | 0.179667 |\n",
            "|  2 |  0.01   | 0.04242  |\n",
            "|  3 |  0.1    | 0.414369 |\n",
            "|  4 |  1      | 4.26993  |\n",
            "|  5 | 10      | 4.99677  |\n",
            "+----+---------+----------+\n"
          ]
        }
      ],
      "source": [
        "# 1.3.3.2\n",
        "# implement Lasso regression and make a table where you explore the effect of different values of `alpha`\n",
        "from sklearn.linear_model import Lasso\n",
        "from sklearn.metrics import mean_squared_error\n",
        "\n",
        "rmse_listt =[]\n",
        "alpha_listt =[]\n",
        "lamba = [0.0001,0.001,0.01,0.1,1,10]\n",
        "for i in lamba:\n",
        "    legg = Lasso(alpha=i).fit(x_train,y_train)\n",
        "    y_prel = legg.predict(x_test)\n",
        "    rmse = np.sqrt(mean_squared_error(y_prel,y_test))\n",
        "    rmse_listt.append(rmse)\n",
        "    alpha_listt.append(i)\n",
        "    \n",
        "dataa = {\n",
        "  \"alpha\": alpha_listt,\n",
        "  \"rmse\": rmse_listt\n",
        "}\n",
        "\n",
        "#load data into a DataFrame object:\n",
        "dff = pd.DataFrame(dataa)\n",
        "# df.to_excel('ridge.xlsx')\n",
        "\n",
        "print(tabulate(dff, headers='keys', tablefmt='psql'))"
      ],
      "id": "09148bbc"
    },
    {
      "cell_type": "code",
      "source": [
        "\n",
        "leg = Lasso(alpha=0.01).fit(x_train, y_train)\n",
        "y_predddd = leg.predict(x_test)\n",
        "rmse = np.sqrt(mean_squared_error(y_predddd,y_test))\n",
        "print(r2_score(y_test,y_predddd))\n",
        "print(rmse)\n"
      ],
      "metadata": {
        "id": "ZP8Fo_d08SHR",
        "colab": {
          "base_uri": "https://localhost:8080/"
        },
        "outputId": "d3812b22-9a15-4d09-f75b-a0b4480bc756"
      },
      "id": "ZP8Fo_d08SHR",
      "execution_count": null,
      "outputs": [
        {
          "output_type": "stream",
          "name": "stdout",
          "text": [
            "0.9946049480974413\n",
            "0.042419962550167355\n"
          ]
        }
      ]
    },
    {
      "cell_type": "markdown",
      "metadata": {
        "id": "Hq5eyeqem-K2"
      },
      "source": [
        "<!-- Your answer to 1.3.3.3 -->\n",
        "`1.3.3.3 Answer`\n",
        "\n",
        "||y - Xw||^2_2 + alpha * |w|\n",
        "\n",
        "Alpha (α) is the penalty term that denotes the amount of shrinkage (or constraint) that will be implemented in the equation. With alpha set to zero, you will find that this is the equivalent of the linear regression model, and a larger value penalizes the optimization function. Therefore, lasso regression shrinks the coefficients and helps to reduce the model complexity and multi-collinearity.\n",
        "\n",
        "Alpha (α) can be any real-valued number between zero and infinity; the larger the value, the more aggressive the penalization is.\n",
        "\n",
        "If Alpha is too high then it will underfit the model."
      ],
      "id": "Hq5eyeqem-K2"
    },
    {
      "cell_type": "code",
      "execution_count": null,
      "metadata": {
        "id": "accompanied-worst",
        "colab": {
          "base_uri": "https://localhost:8080/"
        },
        "outputId": "943bd917-578d-4fb7-bc80-041bf183b19b"
      },
      "outputs": [
        {
          "output_type": "display_data",
          "data": {
            "text/plain": [
              "<Figure size 504x504 with 1 Axes>"
            ],
            "image/png": "[encoded data removed]"
          },
          "metadata": {
            "needs_background": "light"
          }
        }
      ],
      "source": [
        "# 1.3.3.4\n",
        "y_predddd = leg.predict(x_test)\n",
        "fig, ax = plt.subplots(figsize=(7,7))\n",
        "\n",
        "ax.scatter(y_test, y_predddd)\n",
        "\n",
        "lims = [\n",
        "    np.min([ax.get_xlim(), ax.get_ylim()]),\n",
        "    np.max([ax.get_xlim(), ax.get_ylim()]),\n",
        "]\n",
        "ax.plot(lims, lims, 'k-', alpha=0.75, zorder=0)\n",
        "ax.set_aspect('equal')\n",
        "ax.set_xlim(lims)\n",
        "ax.set_ylim(lims)\n",
        "\n",
        "ax.set_title('Parity Plot of Custom Linear Regression')\n",
        "ax.set_xlabel('Ground truth y-values')\n",
        "ax.set_ylabel('Predicted y-values')\n",
        "plt.show()"
      ],
      "id": "accompanied-worst"
    }
  ],
  "metadata": {
    "colab": {
      "provenance": []
    },
    "kernelspec": {
      "display_name": "Python 3 (ipykernel)",
      "language": "python",
      "name": "python3"
    },
    "language_info": {
      "codemirror_mode": {
        "name": "ipython",
        "version": 3
      },
      "file_extension": ".py",
      "mimetype": "text/x-python",
      "name": "python",
      "nbconvert_exporter": "python",
      "pygments_lexer": "ipython3",
      "version": "3.8.6"
    }
  },
  "nbformat": 4,
  "nbformat_minor": 5
}